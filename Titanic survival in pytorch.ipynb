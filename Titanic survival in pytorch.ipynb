{
 "cells": [
  {
   "cell_type": "markdown",
   "metadata": {},
   "source": [
    "# Titanic Survival prediction\n",
    "    A notebook to give me a kickstart working with pytorch, numpy, pandas and pyplot"
   ]
  },
  {
   "cell_type": "code",
   "execution_count": 1,
   "metadata": {
    "_cell_guid": "b1076dfc-b9ad-4769-8c92-a6c4dae69d19",
    "_uuid": "8f2839f25d086af736a60e9eeb907d3b93b6e0e5"
   },
   "outputs": [],
   "source": [
    "%matplotlib inline\n",
    "import numpy as np # linear algebra\n",
    "import pandas as pd # data processing, CSV file I/O (e.g. pd.read_csv)\n",
    "\n",
    "import torch # out tool for applied machine learning\n",
    "import torch.nn as nn\n",
    "import torch.nn.functional as F\n",
    "# remember, we are using data variable for torch.utils.data and not for our actual dataset\n",
    "import torch.utils.data as data\n",
    "import torch.optim as optim\n",
    "\n",
    "import matplotlib.pyplot as plt # to plot graphs "
   ]
  },
  {
   "cell_type": "code",
   "execution_count": 2,
   "metadata": {},
   "outputs": [],
   "source": [
    "data_path = '.\\\\'"
   ]
  },
  {
   "cell_type": "code",
   "execution_count": 3,
   "metadata": {},
   "outputs": [],
   "source": [
    "training_data = pd.read_csv(data_path+'train.csv')\n",
    "testing_data = pd.read_csv(data_path+'test.csv')"
   ]
  },
  {
   "cell_type": "code",
   "execution_count": 4,
   "metadata": {},
   "outputs": [
    {
     "name": "stdout",
     "output_type": "stream",
     "text": [
      "177 values with Age null in training set\n",
      "86 values with Age null in testing set\n"
     ]
    }
   ],
   "source": [
    "# code to see if there are NaN values in the dataset\n",
    "print('{} values with Age null in training set'.format(pd.isnull(training_data.Age).sum()))\n",
    "print('{} values with Age null in testing set'.format(pd.isnull(testing_data.Age).sum()))"
   ]
  },
  {
   "cell_type": "code",
   "execution_count": 5,
   "metadata": {},
   "outputs": [
    {
     "data": {
      "text/html": [
       "<div>\n",
       "<style scoped>\n",
       "    .dataframe tbody tr th:only-of-type {\n",
       "        vertical-align: middle;\n",
       "    }\n",
       "\n",
       "    .dataframe tbody tr th {\n",
       "        vertical-align: top;\n",
       "    }\n",
       "\n",
       "    .dataframe thead th {\n",
       "        text-align: right;\n",
       "    }\n",
       "</style>\n",
       "<table border=\"1\" class=\"dataframe\">\n",
       "  <thead>\n",
       "    <tr style=\"text-align: right;\">\n",
       "      <th></th>\n",
       "      <th>PassengerId</th>\n",
       "      <th>Survived</th>\n",
       "      <th>Pclass</th>\n",
       "      <th>Name</th>\n",
       "      <th>Sex</th>\n",
       "      <th>Age</th>\n",
       "      <th>SibSp</th>\n",
       "      <th>Parch</th>\n",
       "      <th>Ticket</th>\n",
       "      <th>Fare</th>\n",
       "      <th>Cabin</th>\n",
       "      <th>Embarked</th>\n",
       "    </tr>\n",
       "  </thead>\n",
       "  <tbody>\n",
       "    <tr>\n",
       "      <th>0</th>\n",
       "      <td>1</td>\n",
       "      <td>0</td>\n",
       "      <td>3</td>\n",
       "      <td>Braund, Mr. Owen Harris</td>\n",
       "      <td>male</td>\n",
       "      <td>22.0</td>\n",
       "      <td>1</td>\n",
       "      <td>0</td>\n",
       "      <td>A/5 21171</td>\n",
       "      <td>7.2500</td>\n",
       "      <td>NaN</td>\n",
       "      <td>S</td>\n",
       "    </tr>\n",
       "    <tr>\n",
       "      <th>1</th>\n",
       "      <td>2</td>\n",
       "      <td>1</td>\n",
       "      <td>1</td>\n",
       "      <td>Cumings, Mrs. John Bradley (Florence Briggs Th...</td>\n",
       "      <td>female</td>\n",
       "      <td>38.0</td>\n",
       "      <td>1</td>\n",
       "      <td>0</td>\n",
       "      <td>PC 17599</td>\n",
       "      <td>71.2833</td>\n",
       "      <td>C85</td>\n",
       "      <td>C</td>\n",
       "    </tr>\n",
       "    <tr>\n",
       "      <th>2</th>\n",
       "      <td>3</td>\n",
       "      <td>1</td>\n",
       "      <td>3</td>\n",
       "      <td>Heikkinen, Miss. Laina</td>\n",
       "      <td>female</td>\n",
       "      <td>26.0</td>\n",
       "      <td>0</td>\n",
       "      <td>0</td>\n",
       "      <td>STON/O2. 3101282</td>\n",
       "      <td>7.9250</td>\n",
       "      <td>NaN</td>\n",
       "      <td>S</td>\n",
       "    </tr>\n",
       "    <tr>\n",
       "      <th>3</th>\n",
       "      <td>4</td>\n",
       "      <td>1</td>\n",
       "      <td>1</td>\n",
       "      <td>Futrelle, Mrs. Jacques Heath (Lily May Peel)</td>\n",
       "      <td>female</td>\n",
       "      <td>35.0</td>\n",
       "      <td>1</td>\n",
       "      <td>0</td>\n",
       "      <td>113803</td>\n",
       "      <td>53.1000</td>\n",
       "      <td>C123</td>\n",
       "      <td>S</td>\n",
       "    </tr>\n",
       "    <tr>\n",
       "      <th>4</th>\n",
       "      <td>5</td>\n",
       "      <td>0</td>\n",
       "      <td>3</td>\n",
       "      <td>Allen, Mr. William Henry</td>\n",
       "      <td>male</td>\n",
       "      <td>35.0</td>\n",
       "      <td>0</td>\n",
       "      <td>0</td>\n",
       "      <td>373450</td>\n",
       "      <td>8.0500</td>\n",
       "      <td>NaN</td>\n",
       "      <td>S</td>\n",
       "    </tr>\n",
       "  </tbody>\n",
       "</table>\n",
       "</div>"
      ],
      "text/plain": [
       "   PassengerId  Survived  Pclass  \\\n",
       "0            1         0       3   \n",
       "1            2         1       1   \n",
       "2            3         1       3   \n",
       "3            4         1       1   \n",
       "4            5         0       3   \n",
       "\n",
       "                                                Name     Sex   Age  SibSp  \\\n",
       "0                            Braund, Mr. Owen Harris    male  22.0      1   \n",
       "1  Cumings, Mrs. John Bradley (Florence Briggs Th...  female  38.0      1   \n",
       "2                             Heikkinen, Miss. Laina  female  26.0      0   \n",
       "3       Futrelle, Mrs. Jacques Heath (Lily May Peel)  female  35.0      1   \n",
       "4                           Allen, Mr. William Henry    male  35.0      0   \n",
       "\n",
       "   Parch            Ticket     Fare Cabin Embarked  \n",
       "0      0         A/5 21171   7.2500   NaN        S  \n",
       "1      0          PC 17599  71.2833   C85        C  \n",
       "2      0  STON/O2. 3101282   7.9250   NaN        S  \n",
       "3      0            113803  53.1000  C123        S  \n",
       "4      0            373450   8.0500   NaN        S  "
      ]
     },
     "execution_count": 5,
     "metadata": {},
     "output_type": "execute_result"
    }
   ],
   "source": [
    "training_data.head()"
   ]
  },
  {
   "cell_type": "code",
   "execution_count": 6,
   "metadata": {},
   "outputs": [
    {
     "data": {
      "text/html": [
       "<div>\n",
       "<style scoped>\n",
       "    .dataframe tbody tr th:only-of-type {\n",
       "        vertical-align: middle;\n",
       "    }\n",
       "\n",
       "    .dataframe tbody tr th {\n",
       "        vertical-align: top;\n",
       "    }\n",
       "\n",
       "    .dataframe thead th {\n",
       "        text-align: right;\n",
       "    }\n",
       "</style>\n",
       "<table border=\"1\" class=\"dataframe\">\n",
       "  <thead>\n",
       "    <tr style=\"text-align: right;\">\n",
       "      <th></th>\n",
       "      <th>PassengerId</th>\n",
       "      <th>Pclass</th>\n",
       "      <th>Name</th>\n",
       "      <th>Sex</th>\n",
       "      <th>Age</th>\n",
       "      <th>SibSp</th>\n",
       "      <th>Parch</th>\n",
       "      <th>Ticket</th>\n",
       "      <th>Fare</th>\n",
       "      <th>Cabin</th>\n",
       "      <th>Embarked</th>\n",
       "    </tr>\n",
       "  </thead>\n",
       "  <tbody>\n",
       "    <tr>\n",
       "      <th>0</th>\n",
       "      <td>892</td>\n",
       "      <td>3</td>\n",
       "      <td>Kelly, Mr. James</td>\n",
       "      <td>male</td>\n",
       "      <td>34.5</td>\n",
       "      <td>0</td>\n",
       "      <td>0</td>\n",
       "      <td>330911</td>\n",
       "      <td>7.8292</td>\n",
       "      <td>NaN</td>\n",
       "      <td>Q</td>\n",
       "    </tr>\n",
       "    <tr>\n",
       "      <th>1</th>\n",
       "      <td>893</td>\n",
       "      <td>3</td>\n",
       "      <td>Wilkes, Mrs. James (Ellen Needs)</td>\n",
       "      <td>female</td>\n",
       "      <td>47.0</td>\n",
       "      <td>1</td>\n",
       "      <td>0</td>\n",
       "      <td>363272</td>\n",
       "      <td>7.0000</td>\n",
       "      <td>NaN</td>\n",
       "      <td>S</td>\n",
       "    </tr>\n",
       "    <tr>\n",
       "      <th>2</th>\n",
       "      <td>894</td>\n",
       "      <td>2</td>\n",
       "      <td>Myles, Mr. Thomas Francis</td>\n",
       "      <td>male</td>\n",
       "      <td>62.0</td>\n",
       "      <td>0</td>\n",
       "      <td>0</td>\n",
       "      <td>240276</td>\n",
       "      <td>9.6875</td>\n",
       "      <td>NaN</td>\n",
       "      <td>Q</td>\n",
       "    </tr>\n",
       "    <tr>\n",
       "      <th>3</th>\n",
       "      <td>895</td>\n",
       "      <td>3</td>\n",
       "      <td>Wirz, Mr. Albert</td>\n",
       "      <td>male</td>\n",
       "      <td>27.0</td>\n",
       "      <td>0</td>\n",
       "      <td>0</td>\n",
       "      <td>315154</td>\n",
       "      <td>8.6625</td>\n",
       "      <td>NaN</td>\n",
       "      <td>S</td>\n",
       "    </tr>\n",
       "    <tr>\n",
       "      <th>4</th>\n",
       "      <td>896</td>\n",
       "      <td>3</td>\n",
       "      <td>Hirvonen, Mrs. Alexander (Helga E Lindqvist)</td>\n",
       "      <td>female</td>\n",
       "      <td>22.0</td>\n",
       "      <td>1</td>\n",
       "      <td>1</td>\n",
       "      <td>3101298</td>\n",
       "      <td>12.2875</td>\n",
       "      <td>NaN</td>\n",
       "      <td>S</td>\n",
       "    </tr>\n",
       "  </tbody>\n",
       "</table>\n",
       "</div>"
      ],
      "text/plain": [
       "   PassengerId  Pclass                                          Name     Sex  \\\n",
       "0          892       3                              Kelly, Mr. James    male   \n",
       "1          893       3              Wilkes, Mrs. James (Ellen Needs)  female   \n",
       "2          894       2                     Myles, Mr. Thomas Francis    male   \n",
       "3          895       3                              Wirz, Mr. Albert    male   \n",
       "4          896       3  Hirvonen, Mrs. Alexander (Helga E Lindqvist)  female   \n",
       "\n",
       "    Age  SibSp  Parch   Ticket     Fare Cabin Embarked  \n",
       "0  34.5      0      0   330911   7.8292   NaN        Q  \n",
       "1  47.0      1      0   363272   7.0000   NaN        S  \n",
       "2  62.0      0      0   240276   9.6875   NaN        Q  \n",
       "3  27.0      0      0   315154   8.6625   NaN        S  \n",
       "4  22.0      1      1  3101298  12.2875   NaN        S  "
      ]
     },
     "execution_count": 6,
     "metadata": {},
     "output_type": "execute_result"
    }
   ],
   "source": [
    "testing_data.head()"
   ]
  },
  {
   "cell_type": "code",
   "execution_count": 7,
   "metadata": {},
   "outputs": [],
   "source": [
    "class TitanicDataset (data.Dataset):\n",
    "    \n",
    "    def __init__(self, file_name, Train=True):\n",
    "        self.dataframe = pd.read_csv(file_name)\n",
    "        \"\"\" drop all the rows which has null age, currently we are only concerned with age\n",
    "        however, other column values may also be null but we are only using Age, Passenger class\n",
    "        and gender to train our model\n",
    "        \"\"\"\n",
    "        self.dataframe = self.dataframe[~self.dataframe['Age'].isnull()]\n",
    "        self.dataframe = self.dataframe.reset_index()\n",
    "        self.Train = Train\n",
    "        \n",
    "    def __len__(self):\n",
    "        return self.dataframe.shape[0]\n",
    "    \n",
    "    def __getitem__(self, idx):\n",
    "        if(torch.is_tensor(idx)):\n",
    "            idx = idx.tolist();\n",
    "        if(self.Train):\n",
    "            survived = self.dataframe['Survived']\n",
    "            survived = np.array(survived)[idx]\n",
    "        features = pd.DataFrame(columns=('Sex', 'Pclass', 'Age'))\n",
    "        features.loc[idx] = [ 1 if self.dataframe.loc[idx]['Sex']=='male' else 0, \\\n",
    "                              self.dataframe.loc[idx,'Pclass'],\\\n",
    "                              self.dataframe.loc[idx,'Age']]\n",
    "        features = np.array(features)\n",
    "        if(self.Train):\n",
    "            sample = ( features, survived )\n",
    "        else:\n",
    "            sample = features\n",
    "        return sample"
   ]
  },
  {
   "cell_type": "code",
   "execution_count": 8,
   "metadata": {},
   "outputs": [],
   "source": [
    "training_data = TitanicDataset(data_path+'train.csv')\n",
    "testing_data = TitanicDataset(data_path+'test.csv', Train=False)"
   ]
  },
  {
   "cell_type": "code",
   "execution_count": 9,
   "metadata": {},
   "outputs": [
    {
     "name": "stdout",
     "output_type": "stream",
     "text": [
      "training dataset length: 714\n",
      "testing dataset length: 332\n"
     ]
    }
   ],
   "source": [
    "# print the resulting dataset length after filtering out the null values\n",
    "print('training dataset length: {}'.format(training_data.__len__()))\n",
    "print('testing dataset length: {}'.format(testing_data.__len__()))"
   ]
  },
  {
   "cell_type": "code",
   "execution_count": 10,
   "metadata": {},
   "outputs": [],
   "source": [
    "training_dataloader = data.DataLoader(training_data, shuffle=True, batch_size=100)"
   ]
  },
  {
   "cell_type": "code",
   "execution_count": 11,
   "metadata": {},
   "outputs": [
    {
     "name": "stdout",
     "output_type": "stream",
     "text": [
      "[tensor([[[ 1.0000,  2.0000, 36.5000]],\n",
      "\n",
      "        [[ 1.0000,  3.0000, 19.0000]],\n",
      "\n",
      "        [[ 0.0000,  3.0000,  2.0000]],\n",
      "\n",
      "        [[ 1.0000,  1.0000, 27.0000]],\n",
      "\n",
      "        [[ 0.0000,  3.0000, 24.0000]],\n",
      "\n",
      "        [[ 1.0000,  2.0000, 28.0000]],\n",
      "\n",
      "        [[ 0.0000,  1.0000, 30.0000]],\n",
      "\n",
      "        [[ 1.0000,  1.0000, 21.0000]],\n",
      "\n",
      "        [[ 1.0000,  1.0000, 32.0000]],\n",
      "\n",
      "        [[ 0.0000,  1.0000, 62.0000]],\n",
      "\n",
      "        [[ 0.0000,  1.0000, 54.0000]],\n",
      "\n",
      "        [[ 1.0000,  2.0000, 18.0000]],\n",
      "\n",
      "        [[ 0.0000,  1.0000, 40.0000]],\n",
      "\n",
      "        [[ 1.0000,  2.0000, 19.0000]],\n",
      "\n",
      "        [[ 0.0000,  3.0000, 14.5000]],\n",
      "\n",
      "        [[ 0.0000,  2.0000, 55.0000]],\n",
      "\n",
      "        [[ 1.0000,  2.0000, 31.0000]],\n",
      "\n",
      "        [[ 1.0000,  3.0000, 18.0000]],\n",
      "\n",
      "        [[ 1.0000,  1.0000, 54.0000]],\n",
      "\n",
      "        [[ 1.0000,  3.0000, 40.5000]],\n",
      "\n",
      "        [[ 0.0000,  3.0000,  9.0000]],\n",
      "\n",
      "        [[ 1.0000,  3.0000, 31.0000]],\n",
      "\n",
      "        [[ 1.0000,  3.0000, 44.0000]],\n",
      "\n",
      "        [[ 0.0000,  1.0000, 48.0000]],\n",
      "\n",
      "        [[ 1.0000,  3.0000, 19.0000]],\n",
      "\n",
      "        [[ 1.0000,  1.0000, 47.0000]],\n",
      "\n",
      "        [[ 1.0000,  3.0000, 51.0000]],\n",
      "\n",
      "        [[ 1.0000,  2.0000, 23.0000]],\n",
      "\n",
      "        [[ 1.0000,  1.0000, 49.0000]],\n",
      "\n",
      "        [[ 0.0000,  2.0000, 40.0000]],\n",
      "\n",
      "        [[ 0.0000,  3.0000, 31.0000]],\n",
      "\n",
      "        [[ 1.0000,  3.0000, 22.0000]],\n",
      "\n",
      "        [[ 0.0000,  3.0000,  3.0000]],\n",
      "\n",
      "        [[ 1.0000,  3.0000, 41.0000]],\n",
      "\n",
      "        [[ 1.0000,  3.0000, 21.0000]],\n",
      "\n",
      "        [[ 0.0000,  2.0000, 40.0000]],\n",
      "\n",
      "        [[ 0.0000,  2.0000, 29.0000]],\n",
      "\n",
      "        [[ 0.0000,  3.0000, 25.0000]],\n",
      "\n",
      "        [[ 0.0000,  3.0000, 24.0000]],\n",
      "\n",
      "        [[ 1.0000,  3.0000, 45.0000]],\n",
      "\n",
      "        [[ 0.0000,  3.0000, 19.0000]],\n",
      "\n",
      "        [[ 0.0000,  1.0000, 24.0000]],\n",
      "\n",
      "        [[ 0.0000,  2.0000,  5.0000]],\n",
      "\n",
      "        [[ 0.0000,  2.0000, 34.0000]],\n",
      "\n",
      "        [[ 0.0000,  2.0000, 28.0000]],\n",
      "\n",
      "        [[ 1.0000,  3.0000, 25.0000]],\n",
      "\n",
      "        [[ 1.0000,  2.0000, 36.0000]],\n",
      "\n",
      "        [[ 1.0000,  3.0000, 27.0000]],\n",
      "\n",
      "        [[ 1.0000,  3.0000, 26.0000]],\n",
      "\n",
      "        [[ 1.0000,  2.0000, 52.0000]],\n",
      "\n",
      "        [[ 1.0000,  3.0000, 24.0000]],\n",
      "\n",
      "        [[ 1.0000,  1.0000, 54.0000]],\n",
      "\n",
      "        [[ 0.0000,  2.0000, 22.0000]],\n",
      "\n",
      "        [[ 0.0000,  3.0000, 43.0000]],\n",
      "\n",
      "        [[ 1.0000,  3.0000, 42.0000]],\n",
      "\n",
      "        [[ 1.0000,  1.0000, 51.0000]],\n",
      "\n",
      "        [[ 0.0000,  3.0000, 18.0000]],\n",
      "\n",
      "        [[ 1.0000,  3.0000,  3.0000]],\n",
      "\n",
      "        [[ 0.0000,  3.0000, 23.0000]],\n",
      "\n",
      "        [[ 1.0000,  3.0000, 30.0000]],\n",
      "\n",
      "        [[ 1.0000,  3.0000, 28.0000]],\n",
      "\n",
      "        [[ 1.0000,  2.0000, 62.0000]],\n",
      "\n",
      "        [[ 1.0000,  2.0000,  0.8300]],\n",
      "\n",
      "        [[ 1.0000,  3.0000, 19.0000]],\n",
      "\n",
      "        [[ 1.0000,  1.0000, 36.0000]],\n",
      "\n",
      "        [[ 0.0000,  3.0000,  9.0000]],\n",
      "\n",
      "        [[ 0.0000,  2.0000, 24.0000]],\n",
      "\n",
      "        [[ 0.0000,  2.0000, 36.0000]],\n",
      "\n",
      "        [[ 1.0000,  3.0000,  1.0000]],\n",
      "\n",
      "        [[ 0.0000,  2.0000, 31.0000]],\n",
      "\n",
      "        [[ 0.0000,  1.0000, 16.0000]],\n",
      "\n",
      "        [[ 1.0000,  3.0000, 21.0000]],\n",
      "\n",
      "        [[ 0.0000,  3.0000, 14.0000]],\n",
      "\n",
      "        [[ 1.0000,  1.0000, 52.0000]],\n",
      "\n",
      "        [[ 0.0000,  3.0000, 21.0000]],\n",
      "\n",
      "        [[ 1.0000,  3.0000, 18.0000]],\n",
      "\n",
      "        [[ 1.0000,  3.0000, 30.0000]],\n",
      "\n",
      "        [[ 0.0000,  1.0000, 60.0000]],\n",
      "\n",
      "        [[ 0.0000,  2.0000, 27.0000]],\n",
      "\n",
      "        [[ 0.0000,  1.0000, 22.0000]],\n",
      "\n",
      "        [[ 1.0000,  2.0000, 39.0000]],\n",
      "\n",
      "        [[ 0.0000,  3.0000, 45.0000]],\n",
      "\n",
      "        [[ 0.0000,  3.0000, 18.0000]],\n",
      "\n",
      "        [[ 0.0000,  3.0000, 27.0000]],\n",
      "\n",
      "        [[ 1.0000,  2.0000, 27.0000]],\n",
      "\n",
      "        [[ 1.0000,  3.0000, 20.0000]],\n",
      "\n",
      "        [[ 0.0000,  3.0000, 45.0000]],\n",
      "\n",
      "        [[ 1.0000,  3.0000, 28.0000]],\n",
      "\n",
      "        [[ 1.0000,  2.0000, 34.0000]],\n",
      "\n",
      "        [[ 0.0000,  3.0000, 16.0000]],\n",
      "\n",
      "        [[ 1.0000,  1.0000, 40.0000]],\n",
      "\n",
      "        [[ 0.0000,  1.0000, 43.0000]],\n",
      "\n",
      "        [[ 1.0000,  3.0000, 23.0000]],\n",
      "\n",
      "        [[ 1.0000,  3.0000, 22.0000]],\n",
      "\n",
      "        [[ 1.0000,  3.0000, 48.0000]],\n",
      "\n",
      "        [[ 1.0000,  2.0000, 29.0000]],\n",
      "\n",
      "        [[ 1.0000,  1.0000, 35.0000]],\n",
      "\n",
      "        [[ 0.0000,  2.0000, 21.0000]],\n",
      "\n",
      "        [[ 0.0000,  3.0000, 27.0000]],\n",
      "\n",
      "        [[ 0.0000,  3.0000, 31.0000]]], dtype=torch.float64), tensor([0, 0, 0, 1, 1, 0, 1, 0, 1, 1, 1, 0, 1, 0, 0, 1, 0, 0, 0, 0, 0, 0, 1, 1,\n",
      "        0, 0, 0, 0, 1, 1, 0, 0, 0, 0, 0, 1, 1, 0, 1, 1, 1, 1, 1, 1, 1, 0, 0, 1,\n",
      "        0, 0, 0, 0, 1, 0, 0, 1, 1, 1, 1, 0, 0, 1, 1, 0, 0, 0, 1, 1, 1, 1, 1, 0,\n",
      "        1, 1, 0, 0, 0, 1, 0, 1, 0, 0, 0, 1, 0, 1, 0, 0, 0, 0, 0, 1, 0, 0, 0, 0,\n",
      "        1, 1, 1, 1])]\n"
     ]
    }
   ],
   "source": [
    "# print sample training batch examples from our dataset\n",
    "train_example_iterator = iter(training_dataloader)\n",
    "print(train_example_iterator.next())"
   ]
  },
  {
   "cell_type": "markdown",
   "metadata": {},
   "source": [
    "### Death distribution by gender"
   ]
  },
  {
   "cell_type": "markdown",
   "metadata": {},
   "source": [
    "Not going to run this code, this is just for reference for making a bar chart\n",
    "```python\n",
    "fig = plt.figure(figsize=(8,6))\n",
    "bar_width=0.4\n",
    "for i in np.arange(len(gender)):\n",
    "    survived = plt.bar(i-bar_width, gender.loc[i]['NSurvived'], width=bar_width, color='r')\n",
    "    non_survived = plt.bar(i, gender.loc[i]['Survived'], width=bar_width, color='g')\n",
    "    \n",
    "plt.xticks(np.arange(len(gender)), values)\n",
    "plt.legend((survived[0], non_survived[0]), ('Survived', 'Did not Survive'), framealpha=0.8)\n",
    "    \n",
    "plt.xlabel('Sex')\n",
    "plt.ylabel('Number of Passengers')\n",
    "plt.title('Passenger Survival Statistics With \\'%s\\' Feature'%('Sex'))\n",
    "plt.show()\n",
    "```"
   ]
  },
  {
   "cell_type": "code",
   "execution_count": 12,
   "metadata": {},
   "outputs": [],
   "source": [
    "class Net(nn.Module):\n",
    "    \n",
    "    def __init__(self):\n",
    "        super(Net, self).__init__()\n",
    "        self.dl1 = nn.Linear(3, 4)\n",
    "        self.dl2 = nn.Linear(4, 5)\n",
    "        self.dl3 = nn.Linear(5, 1)\n",
    "        self.sigmoid = nn.Sigmoid()\n",
    "        \n",
    "    def forward(self, x):\n",
    "        x = F.relu(self.dl1(x))\n",
    "        x = F.relu(self.dl2(x))\n",
    "        x = self.sigmoid(self.dl3(x))\n",
    "        return x"
   ]
  },
  {
   "cell_type": "code",
   "execution_count": 13,
   "metadata": {},
   "outputs": [
    {
     "name": "stdout",
     "output_type": "stream",
     "text": [
      "Net(\n",
      "  (dl1): Linear(in_features=3, out_features=4, bias=True)\n",
      "  (dl2): Linear(in_features=4, out_features=5, bias=True)\n",
      "  (dl3): Linear(in_features=5, out_features=1, bias=True)\n",
      "  (sigmoid): Sigmoid()\n",
      ")\n"
     ]
    }
   ],
   "source": [
    "net = Net()\n",
    "print(net)"
   ]
  },
  {
   "cell_type": "code",
   "execution_count": 14,
   "metadata": {},
   "outputs": [
    {
     "name": "stdout",
     "output_type": "stream",
     "text": [
      "tensor([[0.5026]], grad_fn=<SigmoidBackward>)\n"
     ]
    }
   ],
   "source": [
    "# testing the classifier (not really) for random input\n",
    "input = torch.randn(1,3)\n",
    "out = net(input)\n",
    "print(out)"
   ]
  },
  {
   "cell_type": "code",
   "execution_count": 15,
   "metadata": {},
   "outputs": [],
   "source": [
    "# use Stochastic Gradient Descent for optimizer and Binary Cross Entropy for loss function\n",
    "optimizer = optim.SGD(net.parameters(), lr=0.001, momentum=0.9)\n",
    "criterion = nn.BCELoss()"
   ]
  },
  {
   "cell_type": "code",
   "execution_count": 16,
   "metadata": {},
   "outputs": [],
   "source": [
    "# a training function, for reusability across models\n",
    "def train(model, training_dataloader, epochs, optimizer, loss):\n",
    "    losses = [] \n",
    "    accuracy = []\n",
    "    for epoch in range(epochs):\n",
    "        running_loss = 0.0\n",
    "        batches = 0\n",
    "        for i, d in enumerate(training_dataloader):\n",
    "            inputs, labels = d\n",
    "            inputs = inputs.view(-1,3)\n",
    "            labels = labels.view(-1,1)\n",
    "\n",
    "            optimizer.zero_grad()\n",
    "\n",
    "            outputs = net(inputs.float())\n",
    "            \n",
    "            # all this jazz just to calculate the accuracy\n",
    "            preds = (outputs > torch.Tensor([0.5])).long().squeeze()\n",
    "            true_preds = (preds==labels.squeeze()).sum().item()\n",
    "            accuracy.append((preds==labels).sum().item()/preds.shape[0])\n",
    "\n",
    "            loss = criterion(outputs, labels.float())\n",
    "\n",
    "            loss.backward()\n",
    "\n",
    "            optimizer.step()\n",
    "\n",
    "            running_loss += loss.item()\n",
    "            batches+=1\n",
    "        losses.append(running_loss/batches)\n",
    "        print('epoch {} done'.format(epoch+1))\n",
    "\n",
    "    print(\"Finished training\")\n",
    "    return (losses, accuracy)"
   ]
  },
  {
   "cell_type": "code",
   "execution_count": 17,
   "metadata": {},
   "outputs": [
    {
     "name": "stdout",
     "output_type": "stream",
     "text": [
      "epoch 1 done\n",
      "epoch 2 done\n",
      "epoch 3 done\n",
      "epoch 4 done\n",
      "epoch 5 done\n",
      "epoch 6 done\n",
      "epoch 7 done\n",
      "epoch 8 done\n",
      "epoch 9 done\n",
      "epoch 10 done\n",
      "Finished training\n"
     ]
    }
   ],
   "source": [
    "losses, accuracy = train(net, training_dataloader, 10, optimizer, criterion)"
   ]
  },
  {
   "cell_type": "code",
   "execution_count": 18,
   "metadata": {},
   "outputs": [],
   "source": [
    "def plot_loss_and_accuracy(losses, accuracy):\n",
    "    figure = plt.figure(figsize=(9,3))\n",
    "    plt.subplot(121, title=\"losses\")\n",
    "    plt.plot(range(1,len(losses)+1), losses)\n",
    "    plt.xlabel(\"epoch no\")\n",
    "    plt.ylabel(\"loss\")\n",
    "    plt.subplot(122, title=\"accuracy\")\n",
    "    plt.plot(range(1,len(accuracy)+1), accuracy)\n",
    "    plt.xlabel(\"batch no\")\n",
    "    plt.ylabel(\"accuracy\")"
   ]
  },
  {
   "cell_type": "code",
   "execution_count": 19,
   "metadata": {},
   "outputs": [
    {
     "data": {
      "image/png": "[encoded data removed]",
      "text/plain": [
       "<Figure size 648x216 with 2 Axes>"
      ]
     },
     "metadata": {
      "needs_background": "light"
     },
     "output_type": "display_data"
    }
   ],
   "source": [
    "plot_loss_and_accuracy(losses, accuracy)"
   ]
  },
  {
   "cell_type": "markdown",
   "metadata": {},
   "source": [
    "If you look at the accuracy graph, there are dips at certain intervals (it looks like). Let's find out why that happens"
   ]
  },
  {
   "cell_type": "code",
   "execution_count": 20,
   "metadata": {},
   "outputs": [
    {
     "name": "stdout",
     "output_type": "stream",
     "text": [
      "[7, 23, 31, 47, 71, 79]\n"
     ]
    }
   ],
   "source": [
    "# analysis to find out about the dips in the accuracy\n",
    "print([i for i,value in enumerate(accuracy) if value<10])"
   ]
  },
  {
   "cell_type": "markdown",
   "metadata": {},
   "source": [
    "After spending some time, I have concluded that the dips occour when the batch size is low (14). Which is fine since our model is not preforming very well"
   ]
  },
  {
   "cell_type": "code",
   "execution_count": 21,
   "metadata": {},
   "outputs": [],
   "source": [
    "MODEL_PATH = '.\\\\titanic_net_1.pth'\n",
    "torch.save(net.state_dict(), MODEL_PATH)"
   ]
  },
  {
   "cell_type": "code",
   "execution_count": 22,
   "metadata": {},
   "outputs": [],
   "source": [
    "def calculate_testing_accuracy(model, testing_dataloader):\n",
    "    correct = 0\n",
    "    total = 0\n",
    "    with torch.no_grad():\n",
    "       for features, labels in testing_dataloader:\n",
    "        labels = labels.squeeze()\n",
    "        features = features.squeeze()\n",
    "        outputs = net(features.float())\n",
    "        outputs = (outputs > torch.Tensor([0.5])).long().squeeze()\n",
    "        total+=outputs.size()[0]\n",
    "        correct+= (outputs==labels).sum().item()\n",
    "    return correct/total"
   ]
  },
  {
   "cell_type": "code",
   "execution_count": 23,
   "metadata": {},
   "outputs": [
    {
     "name": "stdout",
     "output_type": "stream",
     "text": [
      "0.5938375350140056\n"
     ]
    }
   ],
   "source": [
    "\"\"\" since we don't have actual labels for testing data because this dataset was taken from kaggle,\n",
    "    let's check how our model performs on the data that it was trained on\n",
    "\"\"\"\n",
    "print(calculate_testing_accuracy(net, training_dataloader))"
   ]
  },
  {
   "cell_type": "markdown",
   "metadata": {},
   "source": [
    "# Lessons learned\n",
    "- check datatype of your tensor\n",
    "- check the dimensions of your tensor and see if you're providing the right size tensor\n",
    "- filter your dataframe to remove NaN values\n",
    "- when you filter your datafrme, don't forget to reset the index of dataframe\n",
    "- use the right type of loss function based on the application (binary classification / multiclass classifiction)\n",
    "- use Tensor.squeeze() to remove all the dimensions of input of size 1 removed\n",
    "- neural networks are not really good when you don't have considerable amount of data"
   ]
  },
  {
   "cell_type": "markdown",
   "metadata": {},
   "source": [
    "## Experiment 2: Model with less no. of parameters"
   ]
  },
  {
   "cell_type": "code",
   "execution_count": 24,
   "metadata": {},
   "outputs": [],
   "source": [
    "class LessParameterNet(nn.Module):\n",
    "    \n",
    "    def __init__(self):\n",
    "        super(LessParameterNet, self).__init__()\n",
    "        self.dl1 = nn.Linear(3, 4)\n",
    "        self.dl2 = nn.Linear(4, 1)\n",
    "        self.sigmoid = nn.Sigmoid()\n",
    "        \n",
    "    def forward(self, x):\n",
    "        x = F.relu(self.dl1(x))\n",
    "        x = self.sigmoid(self.dl2(x))\n",
    "        return x"
   ]
  },
  {
   "cell_type": "code",
   "execution_count": 25,
   "metadata": {},
   "outputs": [
    {
     "name": "stdout",
     "output_type": "stream",
     "text": [
      "LessParameterNet(\n",
      "  (dl1): Linear(in_features=3, out_features=4, bias=True)\n",
      "  (dl2): Linear(in_features=4, out_features=1, bias=True)\n",
      "  (sigmoid): Sigmoid()\n",
      ")\n"
     ]
    }
   ],
   "source": [
    "lepanet = LessParameterNet()\n",
    "print(lepanet)"
   ]
  },
  {
   "cell_type": "code",
   "execution_count": 26,
   "metadata": {},
   "outputs": [],
   "source": [
    "optimizer = optim.SGD(net.parameters(), lr=0.01, momentum=0.9)\n",
    "criterion = nn.BCELoss()"
   ]
  },
  {
   "cell_type": "code",
   "execution_count": 27,
   "metadata": {},
   "outputs": [],
   "source": [
    "training_dataloader = data.DataLoader(training_data, shuffle=True, batch_size=100)"
   ]
  },
  {
   "cell_type": "code",
   "execution_count": 28,
   "metadata": {},
   "outputs": [
    {
     "name": "stdout",
     "output_type": "stream",
     "text": [
      "epoch 1 done\n",
      "epoch 2 done\n",
      "epoch 3 done\n",
      "epoch 4 done\n",
      "epoch 5 done\n",
      "epoch 6 done\n",
      "epoch 7 done\n",
      "epoch 8 done\n",
      "epoch 9 done\n",
      "epoch 10 done\n",
      "epoch 11 done\n",
      "epoch 12 done\n",
      "epoch 13 done\n",
      "epoch 14 done\n",
      "epoch 15 done\n",
      "epoch 16 done\n",
      "epoch 17 done\n",
      "epoch 18 done\n",
      "epoch 19 done\n",
      "epoch 20 done\n",
      "Finished training\n"
     ]
    }
   ],
   "source": [
    "losses, accuracy = train(lepanet, training_dataloader, 20, optimizer, criterion)"
   ]
  },
  {
   "cell_type": "code",
   "execution_count": 29,
   "metadata": {},
   "outputs": [
    {
     "data": {
      "image/png": "[encoded data removed]",
      "text/plain": [
       "<Figure size 648x216 with 2 Axes>"
      ]
     },
     "metadata": {
      "needs_background": "light"
     },
     "output_type": "display_data"
    }
   ],
   "source": [
    "plot_loss_and_accuracy(losses, accuracy)"
   ]
  },
  {
   "cell_type": "code",
   "execution_count": 30,
   "metadata": {},
   "outputs": [
    {
     "data": {
      "text/plain": [
       "0.7170868347338936"
      ]
     },
     "execution_count": 30,
     "metadata": {},
     "output_type": "execute_result"
    }
   ],
   "source": [
    "calculate_testing_accuracy(lepanet, training_dataloader)"
   ]
  },
  {
   "cell_type": "markdown",
   "metadata": {},
   "source": [
    "The accruracy does not look real good, I have failed to improve the accuracy of the model. I have tried to exploit something call overfitting and I'm already cheating by testing the model on the data that it was tested on. Since devising the best model for best results is not the purpose of this notebook, I guess I will leave this here, leaving the further fine tuning to you (yes you)."
   ]
  },
  {
   "cell_type": "markdown",
   "metadata": {},
   "source": [
    "## Lessons learned\n",
    "- If you don't have a lot of data to train your model, it is a good idea to reduce the number of parameters of your model\n"
   ]
  },
  {
   "cell_type": "markdown",
   "metadata": {},
   "source": [
    "I guess this is it for now, since the purpose of this notebook was to get me kick started with pytorch, I think we are off to a good start as far as the start is concerned and as for improving the accuracy of the model, we can make a lot of changes"
   ]
  },
  {
   "cell_type": "markdown",
   "metadata": {},
   "source": [
    "## TODO:\n",
    "- do some data analysis first to look for patterns\n",
    "- figure out more features (other than age, sex and class) that can contribute to improving the model's accuracy rather that adding some noise\n",
    "- make changes in model hyperparameters like epochs, learning rates, optimizer and loss function"
   ]
  }
 ],
 "metadata": {
  "kernelspec": {
   "display_name": "Python 3",
   "language": "python",
   "name": "python3"
  },
  "language_info": {
   "codemirror_mode": {
    "name": "ipython",
    "version": 3
   },
   "file_extension": ".py",
   "mimetype": "text/x-python",
   "name": "python",
   "nbconvert_exporter": "python",
   "pygments_lexer": "ipython3",
   "version": "3.7.3"
  }
 },
 "nbformat": 4,
 "nbformat_minor": 1
}
